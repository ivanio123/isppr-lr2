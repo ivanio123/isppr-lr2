{
 "cells": [
  {
   "cell_type": "code",
   "execution_count": 26,
   "id": "85493cfe-34bb-444e-b953-7832deb3cea3",
   "metadata": {
    "tags": []
   },
   "outputs": [],
   "source": [
    "import pandas as pd\n",
    "import numpy as np"
   ]
  },
  {
   "cell_type": "code",
   "execution_count": 27,
   "id": "680f8153-3e29-4507-8521-11d9cd7e7462",
   "metadata": {
    "tags": []
   },
   "outputs": [],
   "source": [
    "df = pd.read_csv('sample_data.csv', index_col='index')\n",
    "#df = pd.read_csv('task_data.csv', index_col='index')"
   ]
  },
  {
   "cell_type": "code",
   "execution_count": 36,
   "id": "6bcb4903-5035-4801-8088-989f7a09edfd",
   "metadata": {},
   "outputs": [
    {
     "data": {
      "text/html": [
       "<div>\n",
       "<style scoped>\n",
       "    .dataframe tbody tr th:only-of-type {\n",
       "        vertical-align: middle;\n",
       "    }\n",
       "\n",
       "    .dataframe tbody tr th {\n",
       "        vertical-align: top;\n",
       "    }\n",
       "\n",
       "    .dataframe thead th {\n",
       "        text-align: right;\n",
       "    }\n",
       "</style>\n",
       "<table border=\"1\" class=\"dataframe\">\n",
       "  <thead>\n",
       "    <tr style=\"text-align: right;\">\n",
       "      <th></th>\n",
       "      <th>Х1</th>\n",
       "      <th>Х2</th>\n",
       "      <th>Х3</th>\n",
       "      <th>Х4</th>\n",
       "    </tr>\n",
       "    <tr>\n",
       "      <th>index</th>\n",
       "      <th></th>\n",
       "      <th></th>\n",
       "      <th></th>\n",
       "      <th></th>\n",
       "    </tr>\n",
       "  </thead>\n",
       "  <tbody>\n",
       "    <tr>\n",
       "      <th>Р1</th>\n",
       "      <td>30</td>\n",
       "      <td>0.6</td>\n",
       "      <td>2.0</td>\n",
       "      <td>5</td>\n",
       "    </tr>\n",
       "    <tr>\n",
       "      <th>Р2</th>\n",
       "      <td>33</td>\n",
       "      <td>0.6</td>\n",
       "      <td>2.5</td>\n",
       "      <td>5</td>\n",
       "    </tr>\n",
       "    <tr>\n",
       "      <th>Р3</th>\n",
       "      <td>50</td>\n",
       "      <td>1.0</td>\n",
       "      <td>2.0</td>\n",
       "      <td>15</td>\n",
       "    </tr>\n",
       "    <tr>\n",
       "      <th>Р4</th>\n",
       "      <td>45</td>\n",
       "      <td>0.8</td>\n",
       "      <td>2.0</td>\n",
       "      <td>10</td>\n",
       "    </tr>\n",
       "    <tr>\n",
       "      <th>Р5</th>\n",
       "      <td>20</td>\n",
       "      <td>0.2</td>\n",
       "      <td>1.0</td>\n",
       "      <td>5</td>\n",
       "    </tr>\n",
       "    <tr>\n",
       "      <th>Р6</th>\n",
       "      <td>25</td>\n",
       "      <td>0.6</td>\n",
       "      <td>1.0</td>\n",
       "      <td>20</td>\n",
       "    </tr>\n",
       "  </tbody>\n",
       "</table>\n",
       "</div>"
      ],
      "text/plain": [
       "       Х1   Х2   Х3  Х4\n",
       "index                  \n",
       "Р1     30  0.6  2.0   5\n",
       "Р2     33  0.6  2.5   5\n",
       "Р3     50  1.0  2.0  15\n",
       "Р4     45  0.8  2.0  10\n",
       "Р5     20  0.2  1.0   5\n",
       "Р6     25  0.6  1.0  20"
      ]
     },
     "execution_count": 36,
     "metadata": {},
     "output_type": "execute_result"
    }
   ],
   "source": [
    "df"
   ]
  },
  {
   "cell_type": "code",
   "execution_count": 37,
   "id": "8bc13bf1-5657-402a-b7d4-39343b32df08",
   "metadata": {
    "tags": []
   },
   "outputs": [
    {
     "data": {
      "text/html": [
       "<div>\n",
       "<style scoped>\n",
       "    .dataframe tbody tr th:only-of-type {\n",
       "        vertical-align: middle;\n",
       "    }\n",
       "\n",
       "    .dataframe tbody tr th {\n",
       "        vertical-align: top;\n",
       "    }\n",
       "\n",
       "    .dataframe thead th {\n",
       "        text-align: right;\n",
       "    }\n",
       "</style>\n",
       "<table border=\"1\" class=\"dataframe\">\n",
       "  <thead>\n",
       "    <tr style=\"text-align: right;\">\n",
       "      <th></th>\n",
       "      <th>Х1</th>\n",
       "      <th>Х2</th>\n",
       "      <th>Х3</th>\n",
       "      <th>Х4</th>\n",
       "      <th>Wij</th>\n",
       "    </tr>\n",
       "    <tr>\n",
       "      <th>index</th>\n",
       "      <th></th>\n",
       "      <th></th>\n",
       "      <th></th>\n",
       "      <th></th>\n",
       "      <th></th>\n",
       "    </tr>\n",
       "  </thead>\n",
       "  <tbody>\n",
       "    <tr>\n",
       "      <th>Р1</th>\n",
       "      <td>0.147783</td>\n",
       "      <td>0.157895</td>\n",
       "      <td>0.190476</td>\n",
       "      <td>0.083333</td>\n",
       "      <td>0.579488</td>\n",
       "    </tr>\n",
       "    <tr>\n",
       "      <th>Р2</th>\n",
       "      <td>0.162562</td>\n",
       "      <td>0.157895</td>\n",
       "      <td>0.238095</td>\n",
       "      <td>0.083333</td>\n",
       "      <td>0.641885</td>\n",
       "    </tr>\n",
       "    <tr>\n",
       "      <th>Р3</th>\n",
       "      <td>0.246305</td>\n",
       "      <td>0.263158</td>\n",
       "      <td>0.190476</td>\n",
       "      <td>0.250000</td>\n",
       "      <td>0.949940</td>\n",
       "    </tr>\n",
       "    <tr>\n",
       "      <th>Р4</th>\n",
       "      <td>0.221675</td>\n",
       "      <td>0.210526</td>\n",
       "      <td>0.190476</td>\n",
       "      <td>0.166667</td>\n",
       "      <td>0.789344</td>\n",
       "    </tr>\n",
       "    <tr>\n",
       "      <th>Р5</th>\n",
       "      <td>0.098522</td>\n",
       "      <td>0.052632</td>\n",
       "      <td>0.095238</td>\n",
       "      <td>0.083333</td>\n",
       "      <td>0.329725</td>\n",
       "    </tr>\n",
       "    <tr>\n",
       "      <th>Р6</th>\n",
       "      <td>0.123153</td>\n",
       "      <td>0.157895</td>\n",
       "      <td>0.095238</td>\n",
       "      <td>0.333333</td>\n",
       "      <td>0.709619</td>\n",
       "    </tr>\n",
       "  </tbody>\n",
       "</table>\n",
       "</div>"
      ],
      "text/plain": [
       "             Х1        Х2        Х3        Х4       Wij\n",
       "index                                                  \n",
       "Р1     0.147783  0.157895  0.190476  0.083333  0.579488\n",
       "Р2     0.162562  0.157895  0.238095  0.083333  0.641885\n",
       "Р3     0.246305  0.263158  0.190476  0.250000  0.949940\n",
       "Р4     0.221675  0.210526  0.190476  0.166667  0.789344\n",
       "Р5     0.098522  0.052632  0.095238  0.083333  0.329725\n",
       "Р6     0.123153  0.157895  0.095238  0.333333  0.709619"
      ]
     },
     "execution_count": 37,
     "metadata": {},
     "output_type": "execute_result"
    }
   ],
   "source": [
    "df_normalized = df / df.sum()\n",
    "df_normalized['Wij'] = df_normalized.values.sum(axis=1)\n",
    "df_normalized"
   ]
  },
  {
   "cell_type": "code",
   "execution_count": 38,
   "id": "194c73fe-ab89-495d-8bf0-f16664e7af84",
   "metadata": {
    "tags": []
   },
   "outputs": [
    {
     "data": {
      "text/html": [
       "<div>\n",
       "<style scoped>\n",
       "    .dataframe tbody tr th:only-of-type {\n",
       "        vertical-align: middle;\n",
       "    }\n",
       "\n",
       "    .dataframe tbody tr th {\n",
       "        vertical-align: top;\n",
       "    }\n",
       "\n",
       "    .dataframe thead th {\n",
       "        text-align: right;\n",
       "    }\n",
       "</style>\n",
       "<table border=\"1\" class=\"dataframe\">\n",
       "  <thead>\n",
       "    <tr style=\"text-align: right;\">\n",
       "      <th>index</th>\n",
       "      <th>Р1</th>\n",
       "      <th>Р2</th>\n",
       "      <th>Р3</th>\n",
       "      <th>Р4</th>\n",
       "      <th>Р5</th>\n",
       "      <th>Р6</th>\n",
       "    </tr>\n",
       "    <tr>\n",
       "      <th>index</th>\n",
       "      <th></th>\n",
       "      <th></th>\n",
       "      <th></th>\n",
       "      <th></th>\n",
       "      <th></th>\n",
       "      <th></th>\n",
       "    </tr>\n",
       "  </thead>\n",
       "  <tbody>\n",
       "    <tr>\n",
       "      <th>Р1</th>\n",
       "      <td>0.000000</td>\n",
       "      <td>0.062397</td>\n",
       "      <td>0.370452</td>\n",
       "      <td>0.209857</td>\n",
       "      <td>0.249762</td>\n",
       "      <td>0.130131</td>\n",
       "    </tr>\n",
       "    <tr>\n",
       "      <th>Р2</th>\n",
       "      <td>0.062397</td>\n",
       "      <td>0.000000</td>\n",
       "      <td>0.308055</td>\n",
       "      <td>0.147459</td>\n",
       "      <td>0.312160</td>\n",
       "      <td>0.067734</td>\n",
       "    </tr>\n",
       "    <tr>\n",
       "      <th>Р3</th>\n",
       "      <td>0.370452</td>\n",
       "      <td>0.308055</td>\n",
       "      <td>0.000000</td>\n",
       "      <td>0.160595</td>\n",
       "      <td>0.620214</td>\n",
       "      <td>0.240321</td>\n",
       "    </tr>\n",
       "    <tr>\n",
       "      <th>Р4</th>\n",
       "      <td>0.209857</td>\n",
       "      <td>0.147459</td>\n",
       "      <td>0.160595</td>\n",
       "      <td>0.000000</td>\n",
       "      <td>0.459619</td>\n",
       "      <td>0.079725</td>\n",
       "    </tr>\n",
       "    <tr>\n",
       "      <th>Р5</th>\n",
       "      <td>0.249762</td>\n",
       "      <td>0.312160</td>\n",
       "      <td>0.620214</td>\n",
       "      <td>0.459619</td>\n",
       "      <td>0.000000</td>\n",
       "      <td>0.379894</td>\n",
       "    </tr>\n",
       "    <tr>\n",
       "      <th>Р6</th>\n",
       "      <td>0.130131</td>\n",
       "      <td>0.067734</td>\n",
       "      <td>0.240321</td>\n",
       "      <td>0.079725</td>\n",
       "      <td>0.379894</td>\n",
       "      <td>0.000000</td>\n",
       "    </tr>\n",
       "  </tbody>\n",
       "</table>\n",
       "</div>"
      ],
      "text/plain": [
       "index        Р1        Р2        Р3        Р4        Р5        Р6\n",
       "index                                                            \n",
       "Р1     0.000000  0.062397  0.370452  0.209857  0.249762  0.130131\n",
       "Р2     0.062397  0.000000  0.308055  0.147459  0.312160  0.067734\n",
       "Р3     0.370452  0.308055  0.000000  0.160595  0.620214  0.240321\n",
       "Р4     0.209857  0.147459  0.160595  0.000000  0.459619  0.079725\n",
       "Р5     0.249762  0.312160  0.620214  0.459619  0.000000  0.379894\n",
       "Р6     0.130131  0.067734  0.240321  0.079725  0.379894  0.000000"
      ]
     },
     "execution_count": 38,
     "metadata": {},
     "output_type": "execute_result"
    }
   ],
   "source": [
    "Wij = df_normalized['Wij'].values\n",
    "dist = np.abs(Wij[:, None] - Wij[None, :])\n",
    "df_dist = pd.DataFrame(data=dist, index=df_normalized.index, columns=df_normalized.index)\n",
    "df_dist"
   ]
  },
  {
   "cell_type": "code",
   "execution_count": 39,
   "id": "4d4d257e-a382-4747-ad83-6b8ae95766c7",
   "metadata": {
    "tags": []
   },
   "outputs": [
    {
     "data": {
      "text/html": [
       "<div>\n",
       "<style scoped>\n",
       "    .dataframe tbody tr th:only-of-type {\n",
       "        vertical-align: middle;\n",
       "    }\n",
       "\n",
       "    .dataframe tbody tr th {\n",
       "        vertical-align: top;\n",
       "    }\n",
       "\n",
       "    .dataframe thead th {\n",
       "        text-align: right;\n",
       "    }\n",
       "</style>\n",
       "<table border=\"1\" class=\"dataframe\">\n",
       "  <thead>\n",
       "    <tr style=\"text-align: right;\">\n",
       "      <th>index</th>\n",
       "      <th>Р1</th>\n",
       "      <th>Р2</th>\n",
       "      <th>Р3</th>\n",
       "      <th>Р4</th>\n",
       "      <th>Р5</th>\n",
       "      <th>Р6</th>\n",
       "      <th>Min Pi</th>\n",
       "    </tr>\n",
       "    <tr>\n",
       "      <th>index</th>\n",
       "      <th></th>\n",
       "      <th></th>\n",
       "      <th></th>\n",
       "      <th></th>\n",
       "      <th></th>\n",
       "      <th></th>\n",
       "      <th></th>\n",
       "    </tr>\n",
       "  </thead>\n",
       "  <tbody>\n",
       "    <tr>\n",
       "      <th>Р1</th>\n",
       "      <td>0.000000</td>\n",
       "      <td>0.062397</td>\n",
       "      <td>0.370452</td>\n",
       "      <td>0.209857</td>\n",
       "      <td>0.249762</td>\n",
       "      <td>0.130131</td>\n",
       "      <td>0.062397</td>\n",
       "    </tr>\n",
       "    <tr>\n",
       "      <th>Р2</th>\n",
       "      <td>0.062397</td>\n",
       "      <td>0.000000</td>\n",
       "      <td>0.308055</td>\n",
       "      <td>0.147459</td>\n",
       "      <td>0.312160</td>\n",
       "      <td>0.067734</td>\n",
       "      <td>0.062397</td>\n",
       "    </tr>\n",
       "    <tr>\n",
       "      <th>Р3</th>\n",
       "      <td>0.370452</td>\n",
       "      <td>0.308055</td>\n",
       "      <td>0.000000</td>\n",
       "      <td>0.160595</td>\n",
       "      <td>0.620214</td>\n",
       "      <td>0.240321</td>\n",
       "      <td>0.160595</td>\n",
       "    </tr>\n",
       "    <tr>\n",
       "      <th>Р4</th>\n",
       "      <td>0.209857</td>\n",
       "      <td>0.147459</td>\n",
       "      <td>0.160595</td>\n",
       "      <td>0.000000</td>\n",
       "      <td>0.459619</td>\n",
       "      <td>0.079725</td>\n",
       "      <td>0.079725</td>\n",
       "    </tr>\n",
       "    <tr>\n",
       "      <th>Р5</th>\n",
       "      <td>0.249762</td>\n",
       "      <td>0.312160</td>\n",
       "      <td>0.620214</td>\n",
       "      <td>0.459619</td>\n",
       "      <td>0.000000</td>\n",
       "      <td>0.379894</td>\n",
       "      <td>0.249762</td>\n",
       "    </tr>\n",
       "    <tr>\n",
       "      <th>Р6</th>\n",
       "      <td>0.130131</td>\n",
       "      <td>0.067734</td>\n",
       "      <td>0.240321</td>\n",
       "      <td>0.079725</td>\n",
       "      <td>0.379894</td>\n",
       "      <td>0.000000</td>\n",
       "      <td>0.067734</td>\n",
       "    </tr>\n",
       "  </tbody>\n",
       "</table>\n",
       "</div>"
      ],
      "text/plain": [
       "index        Р1        Р2        Р3        Р4        Р5        Р6    Min Pi\n",
       "index                                                                      \n",
       "Р1     0.000000  0.062397  0.370452  0.209857  0.249762  0.130131  0.062397\n",
       "Р2     0.062397  0.000000  0.308055  0.147459  0.312160  0.067734  0.062397\n",
       "Р3     0.370452  0.308055  0.000000  0.160595  0.620214  0.240321  0.160595\n",
       "Р4     0.209857  0.147459  0.160595  0.000000  0.459619  0.079725  0.079725\n",
       "Р5     0.249762  0.312160  0.620214  0.459619  0.000000  0.379894  0.249762\n",
       "Р6     0.130131  0.067734  0.240321  0.079725  0.379894  0.000000  0.067734"
      ]
     },
     "execution_count": 39,
     "metadata": {},
     "output_type": "execute_result"
    }
   ],
   "source": [
    "minPi = np.sort(dist, axis=1)[:, 1]\n",
    "df_dist['Min Pi'] = minPi\n",
    "df_dist"
   ]
  },
  {
   "cell_type": "code",
   "execution_count": 40,
   "id": "b45aeaeb-4fb3-4dc5-b246-4a362137d201",
   "metadata": {
    "jupyter": {
     "source_hidden": true
    },
    "tags": []
   },
   "outputs": [
    {
     "name": "stdout",
     "output_type": "stream",
     "text": [
      "Критична відстань r = 0.24976233687667448\n"
     ]
    }
   ],
   "source": [
    "maxPj = np.max(minPi)\n",
    "print(f'Критична відстань r = {maxPj}')"
   ]
  },
  {
   "cell_type": "code",
   "execution_count": 41,
   "id": "7bf9dccb-adfd-488b-9b1e-003ea4c90f6f",
   "metadata": {
    "tags": []
   },
   "outputs": [
    {
     "data": {
      "text/plain": [
       "array([[ True,  True, False,  True, False,  True],\n",
       "       [ True,  True, False,  True, False,  True],\n",
       "       [False, False,  True,  True, False,  True],\n",
       "       [ True,  True,  True,  True, False,  True],\n",
       "       [False, False, False, False,  True, False],\n",
       "       [ True,  True,  True,  True, False,  True]])"
      ]
     },
     "execution_count": 41,
     "metadata": {},
     "output_type": "execute_result"
    }
   ],
   "source": [
    "dist < maxPj"
   ]
  },
  {
   "cell_type": "code",
   "execution_count": 42,
   "id": "f0e92e23-5274-42ce-8ddd-86be6b2923aa",
   "metadata": {
    "tags": []
   },
   "outputs": [],
   "source": [
    "def get_clusters(G, names):\n",
    "    st = np.zeros(len(G))\n",
    "    \n",
    "    res = []\n",
    "    \n",
    "    for i in range(len(st)):\n",
    "        if st[i]!=0:\n",
    "            continue\n",
    "            \n",
    "        curr_cluster = []\n",
    "        q = [i]\n",
    "        st[i] = 1\n",
    "        while len(q):\n",
    "            u = q.pop(0)\n",
    "            curr_cluster.append(names[u])\n",
    "            \n",
    "            for v in range(len(st)):\n",
    "                if G[u,v] and (st[v]==0):\n",
    "                    st[v] = 1\n",
    "                    q.append(v)\n",
    "        res.append(curr_cluster)\n",
    "        \n",
    "    return res\n",
    "            "
   ]
  },
  {
   "cell_type": "code",
   "execution_count": 43,
   "id": "5ba124b4-c10f-4efe-951b-ddc3a886ba38",
   "metadata": {
    "tags": []
   },
   "outputs": [
    {
     "name": "stdout",
     "output_type": "stream",
     "text": [
      "Cluster #1: Р1, Р2, Р4, Р6, Р3\n",
      "Cluster #2: Р5\n"
     ]
    }
   ],
   "source": [
    "clusters = get_clusters(dist<maxPj, df.index)\n",
    "for idx, cluster in enumerate(clusters):\n",
    "    print(f'Cluster #{idx+1}: {\", \".join(cluster)}')"
   ]
  },
  {
   "cell_type": "code",
   "execution_count": null,
   "id": "1ea561a6-40c0-4c13-a88c-d605ee51fd72",
   "metadata": {},
   "outputs": [],
   "source": []
  }
 ],
 "metadata": {
  "kernelspec": {
   "display_name": "Python 3 (ipykernel)",
   "language": "python",
   "name": "python3"
  },
  "language_info": {
   "codemirror_mode": {
    "name": "ipython",
    "version": 3
   },
   "file_extension": ".py",
   "mimetype": "text/x-python",
   "name": "python",
   "nbconvert_exporter": "python",
   "pygments_lexer": "ipython3",
   "version": "3.11.3"
  }
 },
 "nbformat": 4,
 "nbformat_minor": 5
}
